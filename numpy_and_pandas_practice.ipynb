{
  "nbformat": 4,
  "nbformat_minor": 0,
  "metadata": {
    "colab": {
      "name": "numpy_and_pandas_practice",
      "provenance": [],
      "collapsed_sections": [],
      "authorship_tag": "ABX9TyNWnCSAIzOTx5a60Zi1ZRwU",
      "include_colab_link": true
    },
    "kernelspec": {
      "name": "python3",
      "display_name": "Python 3"
    },
    "language_info": {
      "name": "python"
    }
  },
  "cells": [
    {
      "cell_type": "markdown",
      "metadata": {
        "id": "view-in-github",
        "colab_type": "text"
      },
      "source": [
        "<a href=\"https://colab.research.google.com/github/sdubee10/Embedded-System/blob/master/numpy_and_pandas_practice.ipynb\" target=\"_parent\"><img src=\"https://colab.research.google.com/assets/colab-badge.svg\" alt=\"Open In Colab\"/></a>"
      ]
    },
    {
      "cell_type": "code",
      "metadata": {
        "id": "W6Tp2asP061Z"
      },
      "source": [
        "import warnings\n",
        "warnings.filterwarnings(\"ignore\")"
      ],
      "execution_count": null,
      "outputs": []
    },
    {
      "cell_type": "code",
      "metadata": {
        "id": "yCiCGYfv0_cZ"
      },
      "source": [
        "import numpy as np"
      ],
      "execution_count": null,
      "outputs": []
    },
    {
      "cell_type": "code",
      "metadata": {
        "colab": {
          "base_uri": "https://localhost:8080/"
        },
        "id": "-Nu0T4n31Bhs",
        "outputId": "aaffca37-7265-4d97-8466-de5661f480ba"
      },
      "source": [
        "#list_name(변수명 설정) = [\"item1\", \"item2\", ... , \"item-n\"]\n",
        "\n",
        "a = [1, 2, 3]\n",
        "b = [\"a\", \"b\", \"c\"]\n",
        "c = [[\"a\"], [\"a\", \"b\"], [\"a\", \"c\"], [\"a\", \"b\", \"c\"]]\n",
        "\n",
        "print(a)\n",
        "print(b)\n",
        "print(c)"
      ],
      "execution_count": null,
      "outputs": [
        {
          "output_type": "stream",
          "name": "stdout",
          "text": [
            "[1, 2, 3]\n",
            "['a', 'b', 'c']\n",
            "[['a'], ['a', 'b'], ['a', 'c'], ['a', 'b', 'c']]\n"
          ]
        }
      ]
    },
    {
      "cell_type": "code",
      "metadata": {
        "colab": {
          "base_uri": "https://localhost:8080/"
        },
        "id": "kgSABwuz1rhb",
        "outputId": "799d2cd0-2dcd-4f2e-8718-f898291413af"
      },
      "source": [
        "# append()로 리스트에 item 추가하기\n",
        "c.append('new_item')\n",
        "c.append(['new_item_list'])\n",
        "\n",
        "print(c)"
      ],
      "execution_count": null,
      "outputs": [
        {
          "output_type": "stream",
          "name": "stdout",
          "text": [
            "[['a'], ['a', 'b'], ['a', 'c'], ['a', 'b', 'c'], 'new_item', ['new_item_list']]\n"
          ]
        }
      ]
    },
    {
      "cell_type": "code",
      "metadata": {
        "colab": {
          "base_uri": "https://localhost:8080/"
        },
        "id": "0auN6Fnu1UJj",
        "outputId": "f98b3918-6918-4f9e-b8f2-19ec1942f14d"
      },
      "source": [
        "a = np.array([1, 2, 3])\n",
        "b = np.array([\"a\", \"b\", \"c\"])\n",
        "c = np.array([[\"a\"], [\"a\", \"b\"], [\"a\", \"c\"], [\"a\", \"b\", \"c\"]])\n",
        "\n",
        "print(a)\n",
        "print(b)\n",
        "print(c)"
      ],
      "execution_count": null,
      "outputs": [
        {
          "output_type": "stream",
          "name": "stdout",
          "text": [
            "[1 2 3]\n",
            "['a' 'b' 'c']\n",
            "[list(['a']) list(['a', 'b']) list(['a', 'c']) list(['a', 'b', 'c'])]\n"
          ]
        }
      ]
    },
    {
      "cell_type": "code",
      "metadata": {
        "colab": {
          "base_uri": "https://localhost:8080/"
        },
        "id": "GLOH2aXY1cmS",
        "outputId": "65af7dcb-6a1f-4895-845a-fd656685cf91"
      },
      "source": [
        "# 배열(또는 행렬)을 1로 채우기\n",
        "print(np.ones((1, 5)))\n",
        "print(np.ones((3, 2)))"
      ],
      "execution_count": null,
      "outputs": [
        {
          "output_type": "stream",
          "name": "stdout",
          "text": [
            "[[1. 1. 1. 1. 1.]]\n",
            "[[1. 1.]\n",
            " [1. 1.]\n",
            " [1. 1.]]\n"
          ]
        }
      ]
    },
    {
      "cell_type": "code",
      "metadata": {
        "id": "Q1HfeZVk2dnI",
        "colab": {
          "base_uri": "https://localhost:8080/"
        },
        "outputId": "95a8fc39-f73e-4173-d492-1a923878bbd6"
      },
      "source": [
        "# 배열(또는 행렬)을 0으로 채우기\n",
        "print(np.zeros((1, 5)))\n",
        "print(np.zeros((3, 2)))"
      ],
      "execution_count": 17,
      "outputs": [
        {
          "output_type": "stream",
          "name": "stdout",
          "text": [
            "[[0. 0. 0. 0. 0.]]\n",
            "[[0. 0.]\n",
            " [0. 0.]\n",
            " [0. 0.]]\n"
          ]
        }
      ]
    },
    {
      "cell_type": "code",
      "metadata": {
        "colab": {
          "base_uri": "https://localhost:8080/"
        },
        "id": "foi5tyJOMhqd",
        "outputId": "54b03050-be97-4b01-a662-19e9b938de1a"
      },
      "source": [
        "# 주어진 범위 안에서 순차적으로 증가하는 리스트 만들기\n",
        "# np.arange([start,] stop, [step, ] dtype=None)\n",
        "\n",
        "print(np.arange(10))\n",
        "print(np.arange(3,7, dtype=np.float))\n",
        "print(np.arange(3,10,2))"
      ],
      "execution_count": 18,
      "outputs": [
        {
          "output_type": "stream",
          "name": "stdout",
          "text": [
            "[0 1 2 3 4 5 6 7 8 9]\n",
            "[3. 4. 5. 6.]\n",
            "[3 5 7 9]\n"
          ]
        }
      ]
    },
    {
      "cell_type": "code",
      "metadata": {
        "colab": {
          "base_uri": "https://localhost:8080/"
        },
        "id": "HNscBcabMk6T",
        "outputId": "400ce102-5d84-47b7-a80c-76742f7acb9d"
      },
      "source": [
        "# 행렬 선언하기\n",
        "mat1 = np.array([[1,2,3],[4,5,6]])\n",
        "\n",
        "# random으로 matrix 만들기\n",
        "mat2 = np.random.randint(low=1, high=10, size=(3,2))\n",
        "\n",
        "# 정규분포를 따르는 값 0~1사이\n",
        "mat3 = np.random.rand(3,2)\n",
        "\n",
        "print(mat1)\n",
        "print(mat2)\n",
        "print(mat3)"
      ],
      "execution_count": 19,
      "outputs": [
        {
          "output_type": "stream",
          "name": "stdout",
          "text": [
            "[[1 2 3]\n",
            " [4 5 6]]\n",
            "[[4 4]\n",
            " [9 2]\n",
            " [3 9]]\n",
            "[[0.87398158 0.46908085]\n",
            " [0.20507425 0.99630077]\n",
            " [0.29315869 0.66808455]]\n"
          ]
        }
      ]
    },
    {
      "cell_type": "markdown",
      "metadata": {
        "id": "LOqVM0AQOce8"
      },
      "source": [
        "### 리스트 인덱싱(Indexing) & 슬라이싱(Slicing)\n",
        "\n",
        "\n"
      ]
    },
    {
      "cell_type": "code",
      "metadata": {
        "colab": {
          "base_uri": "https://localhost:8080/"
        },
        "id": "Q4O9RqAoOkpx",
        "outputId": "ce4c5727-4d70-46c3-eac2-0b7cab010269"
      },
      "source": [
        "# Indexing\n",
        "a = [1,3,5,7,9,11]\n",
        "print(a[2], a[5], a[-1])"
      ],
      "execution_count": 23,
      "outputs": [
        {
          "output_type": "stream",
          "name": "stdout",
          "text": [
            "5 11 11\n"
          ]
        }
      ]
    },
    {
      "cell_type": "code",
      "metadata": {
        "colab": {
          "base_uri": "https://localhost:8080/"
        },
        "id": "XR-09SoKPwL0",
        "outputId": "8d78ccc9-d787-4fd1-cb5e-d78827f2df3c"
      },
      "source": [
        "# Slicing\n",
        "b = [2,4,6,8,10]\n",
        "print(b[2:])\n",
        "print(b[:2])\n",
        "print(b[:])"
      ],
      "execution_count": 24,
      "outputs": [
        {
          "output_type": "stream",
          "name": "stdout",
          "text": [
            "[6, 8, 10]\n",
            "[2, 4]\n",
            "[2, 4, 6, 8, 10]\n"
          ]
        }
      ]
    },
    {
      "cell_type": "markdown",
      "metadata": {
        "id": "NqLqddLdP2s9"
      },
      "source": [
        "### numpy의 reshape (PyTorch의 view와 비교)"
      ]
    },
    {
      "cell_type": "code",
      "metadata": {
        "colab": {
          "base_uri": "https://localhost:8080/"
        },
        "id": "0v2tzmS0PyNk",
        "outputId": "25a06435-5941-4918-c8bd-90dbf57c3602"
      },
      "source": [
        "# (row, column)\n",
        "mat1 = np.random.rand(6,3)\n",
        "print(mat1)"
      ],
      "execution_count": 25,
      "outputs": [
        {
          "output_type": "stream",
          "name": "stdout",
          "text": [
            "[[0.85774838 0.73559784 0.90826659]\n",
            " [0.18167187 0.7168654  0.92309261]\n",
            " [0.19175737 0.61878048 0.02656579]\n",
            " [0.03720646 0.88948432 0.92307119]\n",
            " [0.99075624 0.65077466 0.48709199]\n",
            " [0.09044274 0.51014327 0.68185562]]\n"
          ]
        }
      ]
    },
    {
      "cell_type": "code",
      "metadata": {
        "colab": {
          "base_uri": "https://localhost:8080/"
        },
        "id": "Zf55Sve_P9-a",
        "outputId": "bd9687d1-29be-408f-92e0-359777f4bba5"
      },
      "source": [
        "# -1: all\n",
        "# -1 이 두번째에 들어가면 가로로 출력(열이 18개, 행이 1개)\n",
        "print(mat1.reshape(1, -1).shape)\n",
        "print(mat1.reshape(1, -1))\n",
        "print(\"=====\")\n",
        "print(mat1.reshape(-1, 1).shape)\n",
        "print(mat1.reshape(-1, 1))"
      ],
      "execution_count": 26,
      "outputs": [
        {
          "output_type": "stream",
          "name": "stdout",
          "text": [
            "(1, 18)\n",
            "[[0.85774838 0.73559784 0.90826659 0.18167187 0.7168654  0.92309261\n",
            "  0.19175737 0.61878048 0.02656579 0.03720646 0.88948432 0.92307119\n",
            "  0.99075624 0.65077466 0.48709199 0.09044274 0.51014327 0.68185562]]\n",
            "=====\n",
            "(18, 1)\n",
            "[[0.85774838]\n",
            " [0.73559784]\n",
            " [0.90826659]\n",
            " [0.18167187]\n",
            " [0.7168654 ]\n",
            " [0.92309261]\n",
            " [0.19175737]\n",
            " [0.61878048]\n",
            " [0.02656579]\n",
            " [0.03720646]\n",
            " [0.88948432]\n",
            " [0.92307119]\n",
            " [0.99075624]\n",
            " [0.65077466]\n",
            " [0.48709199]\n",
            " [0.09044274]\n",
            " [0.51014327]\n",
            " [0.68185562]]\n"
          ]
        }
      ]
    },
    {
      "cell_type": "code",
      "metadata": {
        "colab": {
          "base_uri": "https://localhost:8080/"
        },
        "id": "grpleWs9QBFt",
        "outputId": "705b933c-2487-4ec9-f5f7-7bfa2863b7fe"
      },
      "source": [
        "print(mat1.reshape(2, 9).shape)\n",
        "print(\"--------\")\n",
        "print(mat1.reshape(9, 2))"
      ],
      "execution_count": 30,
      "outputs": [
        {
          "output_type": "stream",
          "name": "stdout",
          "text": [
            "(2, 9)\n",
            "--------\n",
            "[[0.85774838 0.73559784]\n",
            " [0.90826659 0.18167187]\n",
            " [0.7168654  0.92309261]\n",
            " [0.19175737 0.61878048]\n",
            " [0.02656579 0.03720646]\n",
            " [0.88948432 0.92307119]\n",
            " [0.99075624 0.65077466]\n",
            " [0.48709199 0.09044274]\n",
            " [0.51014327 0.68185562]]\n"
          ]
        }
      ]
    },
    {
      "cell_type": "code",
      "metadata": {
        "id": "_37AkVEpQGl6"
      },
      "source": [
        "#에러가 발생하는 이유: 사이즈가 안맞기 때문\n",
        "#mat1.reshape(2,5)"
      ],
      "execution_count": 33,
      "outputs": []
    },
    {
      "cell_type": "code",
      "metadata": {
        "colab": {
          "base_uri": "https://localhost:8080/"
        },
        "id": "uDQJU9tRQNbj",
        "outputId": "e64b35a0-d4f5-4356-bbe5-d86d393ebbcf"
      },
      "source": [
        "# tensor 형태로 나타내기\n",
        "# tensor: 3차원 이상을 표현할 때\n",
        "print(mat1.reshape(3,2,3).shape)\n",
        "print(mat1.reshape(3,2,3))"
      ],
      "execution_count": 32,
      "outputs": [
        {
          "output_type": "stream",
          "name": "stdout",
          "text": [
            "(3, 2, 3)\n",
            "[[[0.85774838 0.73559784 0.90826659]\n",
            "  [0.18167187 0.7168654  0.92309261]]\n",
            "\n",
            " [[0.19175737 0.61878048 0.02656579]\n",
            "  [0.03720646 0.88948432 0.92307119]]\n",
            "\n",
            " [[0.99075624 0.65077466 0.48709199]\n",
            "  [0.09044274 0.51014327 0.68185562]]]\n"
          ]
        }
      ]
    },
    {
      "cell_type": "markdown",
      "metadata": {
        "id": "om-V31zMRQE0"
      },
      "source": [
        "### matrix 또는 tensor 형태에서도 slicing이 가능합니다!"
      ]
    },
    {
      "cell_type": "code",
      "metadata": {
        "colab": {
          "base_uri": "https://localhost:8080/"
        },
        "id": "MOu8NcZAQWGQ",
        "outputId": "d78d51f6-3fe0-4ea8-9853-a455c04e80c3"
      },
      "source": [
        "# 앞에 -1이 있으면, 가로로 4개씩 짜르겠다는 의미\n",
        "mat2 = np.arange(24).reshape(-1, 4)\n",
        "print(mat2)"
      ],
      "execution_count": 37,
      "outputs": [
        {
          "output_type": "stream",
          "name": "stdout",
          "text": [
            "[[ 0  1  2  3  4  5]\n",
            " [ 6  7  8  9 10 11]\n",
            " [12 13 14 15 16 17]\n",
            " [18 19 20 21 22 23]]\n"
          ]
        }
      ]
    },
    {
      "cell_type": "code",
      "metadata": {
        "colab": {
          "base_uri": "https://localhost:8080/"
        },
        "id": "GM_-0ublRf-9",
        "outputId": "31046f8b-db68-45bb-dd79-e9332e244fdc"
      },
      "source": [
        ""
      ],
      "execution_count": 35,
      "outputs": [
        {
          "output_type": "stream",
          "name": "stdout",
          "text": [
            "[[ 0  1  2  3]\n",
            " [ 4  5  6  7]\n",
            " [ 8  9 10 11]\n",
            " [12 13 14 15]\n",
            " [16 17 18 19]\n",
            " [20 21 22 23]]\n"
          ]
        }
      ]
    },
    {
      "cell_type": "code",
      "metadata": {
        "id": "fp6CmWsFRhjr"
      },
      "source": [
        ""
      ],
      "execution_count": null,
      "outputs": []
    }
  ]
}